{
  "cells": [
    {
      "cell_type": "markdown",
      "metadata": {
        "id": "zLuPonfBBUhR"
      },
      "source": [
        "## **Нейронные сети для кредитного скоринга**\n",
        "\n",
        "В рамках задачи по кредитному скорингу была поставлена цель разработать модель для предсказания банкротства на основе датасета с бинаризованными признаками. Это классическая задача бинарной классификации, где основным показателем качества модели выбран ROC-AUC score.\n",
        "\n",
        "Сама задача была получена мной в качестве одного из отборочных заданий для стажировок. Так как у меня уже нет доступа к значениям таргета для тестовой выборки, а данные разбиты на части, то я буду использовать один из файлов в качестве валидационного.\n",
        "\n",
        "Первоначальный подход заключался в использовании простых агрегированных признаков. Признаки были агрегированы с помощью суммы, после чего была обучена модель градиентного бустинга. Этот базовый метод дал результат с ROC-AUC score на уровне 0.69, что стало отправной точкой для дальнейших улучшений.\n",
        "\n",
        "Главная цель заключалась в том, чтобы построить более сложную модель — полносвязную нейронную сеть с двумя слоями, которая могла бы превзойти начальный результат. После корректной настройки гиперпараметров и архитектуры модели, эта цель была успешно достигнута: нейросеть превзошла градиентный бустинг, показав более высокий ROC-AUC score.\n",
        "\n",
        "Вторым этапом стала интеграция трансформера в модель в качестве энкодера, с целью извлечения более сложных признаков из данных. Это позволило значительно повысить итоговый результат. Финальная модель, объединяющая возможности полносвязной нейронной сети и трансформера, достигла ROC-AUC score, равного 0.7831609.\n",
        "\n",
        "Таким образом, последовательная работа над улучшением модели и усложнение архитектуры позволили существенно повысить качество предсказаний в задаче кредитного скоринга.\n",
        "\n",
        "Окончательная задача: применить не только первый из 12 parquet-файлов, но и все остальные. 11 для обучения модели, последний – для валидации."
      ]
    },
    {
      "cell_type": "code",
      "execution_count": null,
      "metadata": {
        "id": "xyOLLVWX8hXI"
      },
      "outputs": [],
      "source": [
        "import pandas as pd\n",
        "import numpy as np\n",
        "import torch\n",
        "import torch.nn as nn\n",
        "import matplotlib.pyplot as plt\n",
        "from sklearn.model_selection import train_test_split\n",
        "from tqdm import tqdm\n",
        "import torch.optim as optim\n",
        "import math\n",
        "from sklearn.metrics import roc_auc_score, confusion_matrix\n",
        "from torch.utils.data import DataLoader"
      ]
    },
    {
      "cell_type": "markdown",
      "metadata": {
        "id": "OGhvXK0RBjDG"
      },
      "source": [
        "Первый этап: подготовка полносвязной нейронной сети."
      ]
    },
    {
      "cell_type": "code",
      "execution_count": null,
      "metadata": {
        "id": "nDm_N7f-8xR9"
      },
      "outputs": [],
      "source": [
        "class Model(nn.Module):\n",
        "    def __init__(self, hidden_dim=48, dropout_prob=0.5):\n",
        "\n",
        "        super().__init__()\n",
        "\n",
        "        self.linear_layer_1 = nn.Linear(59, hidden_dim)\n",
        "        self.dropout = nn.Dropout(p=dropout_prob)\n",
        "        self.relu = nn.ReLU()\n",
        "\n",
        "        self.linear_layer_2 = nn.Linear(hidden_dim, 1)\n",
        "        self.sigmoid = nn.Sigmoid()\n",
        "\n",
        "    def forward(self, X):\n",
        "\n",
        "        X = self.linear_layer_1(X)\n",
        "        X = self.dropout(X)\n",
        "        X = self.relu(X)\n",
        "        X = self.linear_layer_2(X)\n",
        "        X = self.sigmoid(X)\n",
        "\n",
        "        return X"
      ]
    },
    {
      "cell_type": "code",
      "execution_count": null,
      "metadata": {
        "id": "ul-YpQqR8z4q"
      },
      "outputs": [],
      "source": [
        "def random_under_sampling(data, labels):\n",
        "    \"\"\"\n",
        "    Выполняет Random Under Sampling для сбалансирования классов.\n",
        "\n",
        "    Args:\n",
        "        data (torch.Tensor): Тензор данных (например, размером [batch_size, num_features]).\n",
        "        labels (torch.Tensor): Тензор меток классов (например, размером [batch_size]).\n",
        "\n",
        "    Returns:\n",
        "        balanced_data (torch.Tensor): Сбалансированные данные.\n",
        "        balanced_labels (torch.Tensor): Сбалансированные метки классов.\n",
        "    \"\"\"\n",
        "    # Выделяем индексы каждого класса\n",
        "    class_0_indices = torch.where(labels == 0)[0]\n",
        "    class_1_indices = torch.where(labels == 1)[0]\n",
        "\n",
        "    # Находим минимальный размер класса\n",
        "    min_class_size = min(len(class_0_indices), len(class_1_indices))\n",
        "\n",
        "    # Выполняем случайную подвыборку из большего класса\n",
        "    if len(class_0_indices) > min_class_size:\n",
        "        sampled_class_0_indices = torch.randperm(len(class_0_indices))[:min_class_size]\n",
        "        class_0_indices = class_0_indices[sampled_class_0_indices]\n",
        "\n",
        "    if len(class_1_indices) > min_class_size:\n",
        "        sampled_class_1_indices = torch.randperm(len(class_1_indices))[:min_class_size]\n",
        "        class_1_indices = class_1_indices[sampled_class_1_indices]\n",
        "\n",
        "    # Объединяем подвыборку\n",
        "    balanced_indices = torch.cat([class_0_indices, class_1_indices])\n",
        "\n",
        "    # Перемешиваем данные, чтобы избежать порядка классов\n",
        "    shuffled_indices = torch.randperm(len(balanced_indices))\n",
        "    balanced_indices = balanced_indices[shuffled_indices]\n",
        "\n",
        "    # Возвращаем сбалансированные данные и метки классов\n",
        "    balanced_data = data[balanced_indices]\n",
        "    balanced_labels = labels[balanced_indices]\n",
        "\n",
        "    return balanced_data, balanced_labels\n"
      ]
    },
    {
      "cell_type": "code",
      "execution_count": null,
      "metadata": {
        "id": "8AJOirH99kXI"
      },
      "outputs": [],
      "source": [
        "df = pd.read_parquet('train_data_0.pq')\n",
        "X = df.groupby('id')[df.columns.tolist()[2:]].sum().reset_index(drop=True)\n",
        "X = X.to_numpy()\n",
        "y = pd.read_csv('train_target.csv', usecols=['flag'])\n",
        "y = y[(y.index >= df.id.min()) & (y.index <= df.id.max())].to_numpy()\n",
        "X, y = torch.Tensor(X), torch.Tensor(y)"
      ]
    },
    {
      "cell_type": "code",
      "execution_count": null,
      "metadata": {
        "id": "e-gffMpZ9yCX"
      },
      "outputs": [],
      "source": [
        "X_train, X_test, y_train, y_test = train_test_split(X, y, test_size=0.2)"
      ]
    },
    {
      "cell_type": "code",
      "execution_count": null,
      "metadata": {
        "id": "rCXyr0Ec9SKs"
      },
      "outputs": [],
      "source": [
        "model = Model(hidden_dim=48)\n",
        "\n",
        "def init_weights(m):\n",
        "    if isinstance(m, nn.Linear):\n",
        "        torch.nn.init.xavier_uniform_(m.weight)\n",
        "        if m.bias is not None:\n",
        "            torch.nn.init.zeros_(m.bias)\n",
        "\n",
        "model.apply(init_weights)\n",
        "\n",
        "criterion = nn.BCELoss()\n",
        "optimizer = optim.SGD(model.parameters(), lr=0.001, weight_decay=0.001)"
      ]
    },
    {
      "cell_type": "code",
      "execution_count": null,
      "metadata": {
        "id": "iYlDUbv__hc8"
      },
      "outputs": [],
      "source": [
        "gradient_norms = []\n",
        "losses = []\n",
        "roc_auc_scores = []"
      ]
    },
    {
      "cell_type": "markdown",
      "metadata": {
        "id": "PAmE8E-YDPqK"
      },
      "source": [
        "Подбор гиперпараметров для этой модели был очень сложной задачей. Во-первых, значимыми оказываются как использование дропаута, так и L1- и L2-регуляризаций. Они обеспечивают лучшую сходимость и стабильность модели.\n",
        "\n",
        "Более того, установлено, что именно для этой задачи лучше работает стохастический градиентный спуск в качестве оптимизатора, а не Adam."
      ]
    },
    {
      "cell_type": "code",
      "execution_count": null,
      "metadata": {
        "colab": {
          "base_uri": "https://localhost:8080/"
        },
        "id": "Ie4FqCFF9Sln",
        "outputId": "e7232bf4-2231-451f-bbff-2ce66ea63e28"
      },
      "outputs": [
        {
          "name": "stderr",
          "output_type": "stream",
          "text": [
            "100%|██████████| 10000/10000 [08:48<00:00, 18.92it/s]\n"
          ]
        }
      ],
      "source": [
        "NUM_EPOCHS = 100000\n",
        "l1_lambda = 0.001\n",
        "\n",
        "for epoch in tqdm(range(NUM_EPOCHS)):\n",
        "    optimizer.zero_grad()\n",
        "\n",
        "\n",
        "    X_batch, y_batch = random_under_sampling(X_train, y_train)\n",
        "\n",
        "    output = model(X_batch)\n",
        "    loss = criterion(output, y_batch)\n",
        "    losses.append(int(loss))\n",
        "    l1_norm = sum(p.abs().sum() for p in model.parameters())\n",
        "    loss = loss + l1_lambda * l1_norm\n",
        "\n",
        "\n",
        "    loss.backward()\n",
        "\n",
        "    total_norm = 0\n",
        "    for param in model.parameters():\n",
        "            if param.grad is not None:\n",
        "                param_norm = param.grad.data.norm(2)\n",
        "                total_norm += param_norm.item() ** 2\n",
        "    gradient_norms.append(total_norm ** 0.5)\n",
        "\n",
        "\n",
        "    optimizer.step()\n",
        "\n",
        "\n",
        "\n",
        "\n",
        "    model.eval()\n",
        "    with torch.no_grad():\n",
        "      out_data = model(X_test)\n",
        "      #print('\\n==ROC_AUC_SCORE==')\n",
        "      a, b = y_test.detach().numpy(), out_data.detach().numpy()\n",
        "      score = roc_auc_score(a, b)\n",
        "      roc_auc_scores.append(score)\n",
        "      #print(score)\n",
        "      # print(confusion_matrix(a, b.round().astype(int)))\n",
        "      #print('=================')"
      ]
    },
    {
      "cell_type": "code",
      "execution_count": null,
      "metadata": {
        "colab": {
          "base_uri": "https://localhost:8080/"
        },
        "id": "awwpP6EH_n-U",
        "outputId": "cf06f765-5e8b-4683-e24a-cdda863db583"
      },
      "outputs": [
        {
          "name": "stdout",
          "output_type": "stream",
          "text": [
            "\n",
            "==ROC_AUC_SCORE==\n",
            "0.7070284699697877\n",
            "=================\n",
            "[[29945 18477]\n",
            " [  479  1099]]\n",
            "=================\n"
          ]
        }
      ],
      "source": [
        "print('\\n==ROC_AUC_SCORE==')\n",
        "print(score)\n",
        "print('=================')\n",
        "print(confusion_matrix(a, b.round().astype(int)))\n",
        "print('=================')"
      ]
    },
    {
      "cell_type": "code",
      "execution_count": null,
      "metadata": {
        "colab": {
          "base_uri": "https://localhost:8080/",
          "height": 569
        },
        "id": "QBgInyTU9MJn",
        "outputId": "082b278b-a18b-4f3b-fce8-7098829e3c19"
      },
      "outputs": [
        {
          "data": {
            "image/png": "[encoded data removed]",
            "text/plain": [
              "<Figure size 1200x600 with 3 Axes>"
            ]
          },
          "metadata": {},
          "output_type": "display_data"
        }
      ],
      "source": [
        "plt.figure(figsize=(12, 6))\n",
        "\n",
        "plt.subplot(1, 3, 1)\n",
        "plt.plot(losses, label='Loss')\n",
        "plt.xlabel('Epoch')\n",
        "plt.ylabel('Loss')\n",
        "plt.title('Loss over Epochs')\n",
        "plt.legend()\n",
        "\n",
        "plt.subplot(1, 3, 2)\n",
        "plt.plot(gradient_norms, label='Gradient Norms')\n",
        "plt.xlabel('Iteration')\n",
        "plt.ylabel('Gradient Norm')\n",
        "plt.title('Gradient Norms over Iterations')\n",
        "plt.legend()\n",
        "\n",
        "plt.subplot(1, 3, 3)\n",
        "plt.plot(roc_auc_scores, label='ROC-AUC-SCORE')\n",
        "plt.xlabel('Iteration')\n",
        "plt.ylabel('Roc-Auc')\n",
        "plt.title('ROC-AUC-SCORE over Iterations')\n",
        "plt.legend()\n",
        "\n",
        "plt.tight_layout()\n",
        "plt.show()"
      ]
    },
    {
      "cell_type": "markdown",
      "metadata": {
        "id": "Ndy2MJ5wDvRk"
      },
      "source": [
        "Проверка на отложенном датасете. На train_data_0.pq мы обучались, а на train_data_1.pq тестируем модель. Как видим, модель демонстрирует перфоманс лучше, чем градиентный бустинг. При этом результат около 0.7 был достигнут на остановленной модели. При другом запуске результат был около 0.72.\n",
        "\n"
      ]
    },
    {
      "cell_type": "code",
      "execution_count": null,
      "metadata": {
        "id": "c15258jk9i_9"
      },
      "outputs": [],
      "source": [
        "df2 = pd.read_parquet('train_data_1.pq')\n",
        "X_val = df2.groupby('id')[df2.columns.tolist()[2:]].sum().reset_index(drop=True)\n",
        "X_val = X_val.to_numpy()\n",
        "y_val = pd.read_csv('train_target.csv', usecols=['flag'])\n",
        "y_val = y_val[(y_val.index >= df2.id.min()) & (y_val.index <= df2.id.max())].to_numpy()\n",
        "X_val, y_val = torch.Tensor(X_val), torch.Tensor(y_val)"
      ]
    },
    {
      "cell_type": "code",
      "execution_count": null,
      "metadata": {
        "colab": {
          "base_uri": "https://localhost:8080/"
        },
        "id": "83ia8xqT9c75",
        "outputId": "5c2679ce-2db5-4e61-8afe-218f0b290e9f"
      },
      "outputs": [
        {
          "name": "stdout",
          "output_type": "stream",
          "text": [
            "==ROC_AUC_SCORE==\n",
            "0.6971130860424308\n",
            "=================\n",
            "[[152473  89315]\n",
            " [  2709   5503]]\n",
            "=================\n"
          ]
        }
      ],
      "source": [
        "model.eval()\n",
        "with torch.no_grad():\n",
        "      out_data = model(X_val)\n",
        "      print('==ROC_AUC_SCORE==')\n",
        "      a, b = y_val.detach().numpy(), out_data.detach().numpy()\n",
        "      score = roc_auc_score(a, b)\n",
        "      print(score)\n",
        "      print('=================')\n",
        "      print(confusion_matrix(a, b.round().astype(int)))\n",
        "      print('=================')"
      ]
    },
    {
      "cell_type": "markdown",
      "metadata": {
        "id": "nG7aNFjECVK0"
      },
      "source": [
        "Вторая часть: модель с трансформером."
      ]
    },
    {
      "cell_type": "code",
      "execution_count": null,
      "metadata": {
        "id": "_rBIMd_cEQxO"
      },
      "outputs": [],
      "source": [
        "class SimpleTransformerEncoder(nn.Module):\n",
        "    def __init__(self, input_dim, hidden_dim, num_heads, num_layers, seq_length):\n",
        "        super().__init__()\n",
        "        encoder_layer = nn.TransformerEncoderLayer(d_model=input_dim, nhead=num_heads)\n",
        "        self.transformer_encoder = nn.TransformerEncoder(encoder_layer, num_layers=num_layers)\n",
        "        self.flatten = nn.Flatten()\n",
        "        self.seq_length = seq_length\n",
        "        self.input_dim = input_dim\n",
        "\n",
        "    def forward(self, X):\n",
        "        X = X.permute(1, 0, 2)\n",
        "        X = self.transformer_encoder(X)\n",
        "        X = X.permute(1, 0, 2)\n",
        "        X = X.mean(dim=1)\n",
        "        return X\n",
        "\n",
        "\n",
        "input_dim = 59\n",
        "hidden_dim = 64\n",
        "output_dim = 1\n",
        "dropout_prob = 0.5\n",
        "num_heads = 1\n",
        "num_layers = 2\n",
        "seq_length = 10\n",
        "\n",
        "\n",
        "transformer_encoder = SimpleTransformerEncoder(input_dim=input_dim, hidden_dim=hidden_dim,\n",
        "                                               num_heads=num_heads, num_layers=num_layers,\n",
        "                                               seq_length=seq_length)\n",
        "\n",
        "model = nn.Sequential(\n",
        "    transformer_encoder,\n",
        "    nn.Linear(input_dim, hidden_dim),\n",
        "    nn.ReLU(),\n",
        "    nn.Dropout(p=dropout_prob),\n",
        "    nn.Linear(hidden_dim, output_dim),\n",
        "    nn.Sigmoid()\n",
        ")"
      ]
    },
    {
      "cell_type": "code",
      "execution_count": null,
      "metadata": {
        "id": "OnW02HHnEwW-"
      },
      "outputs": [],
      "source": [
        "NUM_EPOCHS = 15000\n",
        "l1_lambda = 0.001\n",
        "\n",
        "for epoch in tqdm(range(NUM_EPOCHS)):\n",
        "    optimizer.zero_grad()\n",
        "\n",
        "\n",
        "    X_batch, y_batch = random_under_sampling(X_train, y_train)\n",
        "\n",
        "    output = model(X_batch)\n",
        "    loss = criterion(output, y_batch)\n",
        "    losses.append(int(loss))\n",
        "    l1_norm = sum(p.abs().sum() for p in model.parameters())\n",
        "    loss = loss + l1_lambda * l1_norm\n",
        "\n",
        "    loss.backward()\n",
        "    optimizer.step()"
      ]
    },
    {
      "cell_type": "code",
      "execution_count": 2,
      "metadata": {
        "colab": {
          "base_uri": "https://localhost:8080/"
        },
        "id": "95CXKapGBvxw",
        "outputId": "b80a91d2-d6dd-4162-b52a-b5fa73bfac32"
      },
      "outputs": [
        {
          "name": "stdout",
          "output_type": "stream",
          "text": [
            "==ROC_AUC_SCORE==\n",
            "0.7831609\n",
            "=================\n",
            "[[168012  73776] \n",
            " [  2491   5721]]\n",
            "=================\n"
          ]
        }
      ],
      "source": [
        "model.eval()\n",
        "with torch.no_grad():\n",
        "      out_data = model(X_val)\n",
        "      print('==ROC_AUC_SCORE==')\n",
        "      a, b = y_val.detach().numpy(), out_data.detach().numpy()\n",
        "      score = roc_auc_score(a, b)\n",
        "      print(score)\n",
        "      print('=================')\n",
        "      print(confusion_matrix(a, b.round().astype(int)))\n",
        "      print('=================')"
      ]
    }
  ],
  "metadata": {
    "colab": {
      "provenance": []
    },
    "kernelspec": {
      "display_name": "Python 3",
      "name": "python3"
    },
    "language_info": {
      "name": "python"
    }
  },
  "nbformat": 4,
  "nbformat_minor": 0
}
